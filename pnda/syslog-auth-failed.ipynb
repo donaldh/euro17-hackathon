{
 "cells": [
  {
   "cell_type": "markdown",
   "metadata": {},
   "source": [
    "### Request data from HDFS for today"
   ]
  },
  {
   "cell_type": "code",
   "execution_count": 16,
   "metadata": {
    "collapsed": false
   },
   "outputs": [
    {
     "name": "stdout",
     "output_type": "stream",
     "text": [
      "9242\n"
     ]
    }
   ],
   "source": [
    "import json\n",
    "from platformlibs.simple_data_handler import SimpleDataHandler\n",
    "handler = SimpleDataHandler(sc, \"mefnet-syslog\", \"year=2017/month=04/day=26\")\n",
    "rdd = handler.rdd\n",
    "print rdd.count()"
   ]
  },
  {
   "cell_type": "markdown",
   "metadata": {},
   "source": [
    "### Parse the raw data"
   ]
  },
  {
   "cell_type": "code",
   "execution_count": 17,
   "metadata": {
    "collapsed": false,
    "scrolled": true
   },
   "outputs": [],
   "source": [
    "syslogs = rdd \\\n",
    "    .map(lambda x: dict({'timestamp': x['timestamp'], 'host': x['host_ip']}, \\\n",
    "                        **json.loads(x['rawdata'].decode('utf-8').replace(\"\\n\", \"\"))))\n"
   ]
  },
  {
   "cell_type": "markdown",
   "metadata": {},
   "source": [
    "### Pick just the authentication failure messages"
   ]
  },
  {
   "cell_type": "code",
   "execution_count": 18,
   "metadata": {
    "collapsed": false
   },
   "outputs": [],
   "source": [
    "auth_failed = syslogs \\\n",
    "    .filter(lambda x: \"INFO_FAILURE\" in x['mnemonic'])"
   ]
  },
  {
   "cell_type": "markdown",
   "metadata": {},
   "source": [
    "### Show the count of auth failure messages by host"
   ]
  },
  {
   "cell_type": "code",
   "execution_count": 19,
   "metadata": {
    "collapsed": false
   },
   "outputs": [
    {
     "name": "stdout",
     "output_type": "stream",
     "text": [
      "[(u'10.0.2.101', 1375), (u'10.0.2.102', 1348), (u'10.0.2.103', 141)]\n"
     ]
    }
   ],
   "source": [
    "countbyhost = auth_failed \\\n",
    "    .map(lambda x: (x['host'], 1)) \\\n",
    "    .combineByKey(lambda x: 1, lambda x,y: x+y, lambda x,y: x+y)\n",
    "print countbyhost.collect()"
   ]
  },
  {
   "cell_type": "code",
   "execution_count": null,
   "metadata": {
    "collapsed": true
   },
   "outputs": [],
   "source": []
  }
 ],
 "metadata": {
  "kernelspec": {
   "display_name": "PySpark/Python2 (Anaconda)",
   "language": "python",
   "name": "pyspark"
  },
  "language_info": {
   "codemirror_mode": {
    "name": "ipython",
    "version": 2
   },
   "file_extension": ".py",
   "mimetype": "text/x-python",
   "name": "python",
   "nbconvert_exporter": "python",
   "pygments_lexer": "ipython2",
   "version": "2.7.13"
  }
 },
 "nbformat": 4,
 "nbformat_minor": 2
}
