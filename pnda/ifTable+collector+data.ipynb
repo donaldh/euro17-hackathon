{
 "cells": [
  {
   "cell_type": "code",
   "execution_count": 61,
   "metadata": {
    "collapsed": false
   },
   "outputs": [],
   "source": [
    "from platformlibs.simple_data_handler import SimpleDataHandler\n",
    "handler = SimpleDataHandler(sc, \"if-table-collector\", \"year=2017/month=04/day=24\")"
   ]
  },
  {
   "cell_type": "code",
   "execution_count": 62,
   "metadata": {
    "collapsed": false
   },
   "outputs": [
    {
     "data": {
      "text/plain": [
       "28036"
      ]
     },
     "execution_count": 62,
     "metadata": {},
     "output_type": "execute_result"
    }
   ],
   "source": [
    "rdd = handler.rdd\n",
    "rdd.count()"
   ]
  },
  {
   "cell_type": "code",
   "execution_count": 63,
   "metadata": {
    "collapsed": false
   },
   "outputs": [],
   "source": [
    "xml_payload = rdd.take(1)[0]['rawdata'].decode('utf-8')"
   ]
  },
  {
   "cell_type": "code",
   "execution_count": 64,
   "metadata": {
    "collapsed": false
   },
   "outputs": [
    {
     "data": {
      "text/plain": [
       "u'214'"
      ]
     },
     "execution_count": 64,
     "metadata": {},
     "output_type": "execute_result"
    }
   ],
   "source": [
    "from bs4 import BeautifulSoup\n",
    "payload = BeautifulSoup(xml_payload, 'lxml').payload\n",
    "payload.message.ifentrybuilder.ifinucastpkts.text\n"
   ]
  },
  {
   "cell_type": "code",
   "execution_count": 65,
   "metadata": {
    "collapsed": false
   },
   "outputs": [
    {
     "data": {
      "text/plain": [
       "u'0'"
      ]
     },
     "execution_count": 65,
     "metadata": {},
     "output_type": "execute_result"
    }
   ],
   "source": [
    "payload.message.ifentrybuilder.ifoutucastpkts.text"
   ]
  },
  {
   "cell_type": "code",
   "execution_count": 66,
   "metadata": {
    "collapsed": false
   },
   "outputs": [
    {
     "data": {
      "text/plain": [
       "<message><ifentrybuilder><ifoutdiscards>0</ifoutdiscards><ifouterrors>0</ifouterrors><ifoutoctets>68</ifoutoctets><ifoutucastpkts>0</ifoutucastpkts><ifphysaddress>10:f3:11:7f:f7:a1</ifphysaddress><ifspeed>1000000000</ifspeed><iftype>Iso88023Csmacd</iftype><ifadminstatus>Down</ifadminstatus><ifindiscards>1076</ifindiscards><ifinerrors>0</ifinerrors><ifinoctets>13501194</ifinoctets><ifinucastpkts>214</ifinucastpkts><ifinunknownprotos>19256</ifinunknownprotos><ifindex>5</ifindex><ifmtu>1514</ifmtu><ifoperstatus>Down</ifoperstatus></ifentrybuilder></message>"
      ]
     },
     "execution_count": 66,
     "metadata": {},
     "output_type": "execute_result"
    }
   ],
   "source": [
    "payload.message"
   ]
  },
  {
   "cell_type": "code",
   "execution_count": null,
   "metadata": {
    "collapsed": true
   },
   "outputs": [],
   "source": []
  }
 ],
 "metadata": {
  "kernelspec": {
   "display_name": "PySpark/Python2 (Anaconda)",
   "language": "python",
   "name": "pyspark"
  },
  "language_info": {
   "codemirror_mode": {
    "name": "ipython",
    "version": 2
   },
   "file_extension": ".py",
   "mimetype": "text/x-python",
   "name": "python",
   "nbconvert_exporter": "python",
   "pygments_lexer": "ipython2",
   "version": "2.7.13"
  }
 },
 "nbformat": 4,
 "nbformat_minor": 2
}
